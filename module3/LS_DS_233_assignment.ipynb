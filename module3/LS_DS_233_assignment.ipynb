{
  "nbformat": 4,
  "nbformat_minor": 0,
  "metadata": {
    "colab": {
      "name": "Copy of assignment_applied_modeling_2.ipynb",
      "provenance": [],
      "collapsed_sections": [],
      "include_colab_link": true
    },
    "kernelspec": {
      "display_name": "Python 3",
      "language": "python",
      "name": "python3"
    },
    "language_info": {
      "codemirror_mode": {
        "name": "ipython",
        "version": 3
      },
      "file_extension": ".py",
      "mimetype": "text/x-python",
      "name": "python",
      "nbconvert_exporter": "python",
      "pygments_lexer": "ipython3",
      "version": "3.7.3"
    }
  },
  "cells": [
    {
      "cell_type": "markdown",
      "metadata": {
        "id": "view-in-github",
        "colab_type": "text"
      },
      "source": [
        "<a href=\"https://colab.research.google.com/github/DavidVollendroff/DS-Unit-2-Applied-Modeling/blob/master/module3/LS_DS_233_assignment.ipynb\" target=\"_parent\"><img src=\"https://colab.research.google.com/assets/colab-badge.svg\" alt=\"Open In Colab\"/></a>"
      ]
    },
    {
      "cell_type": "markdown",
      "metadata": {
        "colab_type": "text",
        "id": "nCc3XZEyG3XV"
      },
      "source": [
        "Lambda School Data Science\n",
        "\n",
        "*Unit 2, Sprint 3, Module 3*\n",
        "\n",
        "---\n",
        "\n",
        "\n",
        "# Permutation & Boosting\n",
        "\n",
        "You will use your portfolio project dataset for all assignments this sprint.\n",
        "\n",
        "## Assignment\n",
        "\n",
        "Complete these tasks for your project, and document your work.\n",
        "\n",
        "- [ ] If you haven't completed assignment #1, please do so first.\n",
        "- [ ] Continue to clean and explore your data. Make exploratory visualizations.\n",
        "- [ ] Fit a model. Does it beat your baseline? \n",
        "- [ ] Try xgboost.\n",
        "- [ ] Get your model's permutation importances.\n",
        "\n",
        "You should try to complete an initial model today, because the rest of the week, we're making model interpretation visualizations.\n",
        "\n",
        "But, if you aren't ready to try xgboost and permutation importances with your dataset today, that's okay. You can practice with another dataset instead. You may choose any dataset you've worked with previously.\n",
        "\n",
        "The data subdirectory includes the Titanic dataset for classification and the NYC apartments dataset for regression. You may want to choose one of these datasets, because example solutions will be available for each.\n",
        "\n",
        "\n",
        "## Reading\n",
        "\n",
        "Top recommendations in _**bold italic:**_\n",
        "\n",
        "#### Permutation Importances\n",
        "- _**[Kaggle / Dan Becker: Machine Learning Explainability](https://www.kaggle.com/dansbecker/permutation-importance)**_\n",
        "- [Christoph Molnar: Interpretable Machine Learning](https://christophm.github.io/interpretable-ml-book/feature-importance.html)\n",
        "\n",
        "#### (Default) Feature Importances\n",
        "  - [Ando Saabas: Selecting good features, Part 3, Random Forests](https://blog.datadive.net/selecting-good-features-part-iii-random-forests/)\n",
        "  - [Terence Parr, et al: Beware Default Random Forest Importances](https://explained.ai/rf-importance/index.html)\n",
        "\n",
        "#### Gradient Boosting\n",
        "  - [A Gentle Introduction to the Gradient Boosting Algorithm for Machine Learning](https://machinelearningmastery.com/gentle-introduction-gradient-boosting-algorithm-machine-learning/)\n",
        "  - _**[A Kaggle Master Explains Gradient Boosting](http://blog.kaggle.com/2017/01/23/a-kaggle-master-explains-gradient-boosting/)**_\n",
        "  - [_An Introduction to Statistical Learning_](http://www-bcf.usc.edu/~gareth/ISL/ISLR%20Seventh%20Printing.pdf) Chapter 8\n",
        "  - [Gradient Boosting Explained](http://arogozhnikov.github.io/2016/06/24/gradient_boosting_explained.html)\n",
        "  - _**[Boosting](https://www.youtube.com/watch?v=GM3CDQfQ4sw) (2.5 minute video)**_"
      ]
    },
    {
      "cell_type": "code",
      "metadata": {
        "id": "ExqipQiD929i",
        "colab_type": "code",
        "colab": {}
      },
      "source": [
        "import pandas as pd\n",
        "import numpy as np"
      ],
      "execution_count": 0,
      "outputs": []
    },
    {
      "cell_type": "code",
      "metadata": {
        "id": "FEKi5RPUGgeD",
        "colab_type": "code",
        "colab": {}
      },
      "source": [
        "pd.options.display.max_rows = 500"
      ],
      "execution_count": 0,
      "outputs": []
    },
    {
      "cell_type": "code",
      "metadata": {
        "id": "rlAsjr9bnWs9",
        "colab_type": "code",
        "colab": {}
      },
      "source": [
        "seasons = [yr for yr in range(1990, 2021)]\n",
        "data = {}\n",
        "stats_url = 'https://www.basketball-reference.com/leagues/NBA_{}_advanced.html'\n",
        "for season in seasons:\n",
        "  stats = pd.read_html(stats_url.format(season))\n",
        "  centers = stats[0][stats[0]['Pos']=='C'].dropna(axis=1,thresh=10)\n",
        "  data['{}-{}'.format(season -1, str(season)[-2:])] = centers"
      ],
      "execution_count": 0,
      "outputs": []
    },
    {
      "cell_type": "code",
      "metadata": {
        "id": "fiv__TP4Xmd8",
        "colab_type": "code",
        "colab": {}
      },
      "source": [
        "# All-NBA Awards List\n",
        "url = 'https://www.basketball-reference.com/awards/all_league.html'\n",
        "all_nba = pd.read_html(url) # pulls from the web\n",
        "all_nba = all_nba[0] # removes from the list\n",
        "all_nba = all_nba.dropna() # drops spacer rows\n",
        "all_nba = all_nba[['Season', 'Unnamed: 3']] # selects only the Centers\n",
        "all_nba = all_nba.set_index('Season') # removes useless index"
      ],
      "execution_count": 0,
      "outputs": []
    },
    {
      "cell_type": "code",
      "metadata": {
        "id": "Sr4RiE1GW9gm",
        "colab_type": "code",
        "colab": {}
      },
      "source": [
        "team_abr = ['OKC', 'MIA', 'MIN', 'SAS', 'BRK', 'IND', 'NOP', 'CHI',\n",
        "       'BOS', 'GSW', 'ORL', 'HOU', 'LAL', 'UTA', 'SAC', 'PHO', 'POR',\n",
        "       'MEM', 'ATL', 'DET', 'PHI', 'CLE', 'WAS', 'LAC', 'MIL', 'NYK',\n",
        "       'CHO', 'DEN', 'DAL', 'TOR', 'CHA', 'NOH', 'NJN', 'SEA', 'NOK',\n",
        "       'CHH', 'VAN', 'WSB']\n",
        "team_cities = ['Oklahoma City', 'Miami', 'Minnesota', 'San Antonio', 'Brooklyn', 'Indiana',\n",
        "            'New Orleans', 'Chicago', 'Boston', 'Golden State', 'Orlando', 'Houston',\n",
        "            'Los Angeles Lakers', 'Utah', 'Sacramento', 'Phoenix', 'Portland', 'Memphis',\n",
        "            'Atlanta', 'Detroit', 'Philadelphia', 'Cleveland', 'Washington', 'Los Angeles Clippers',\n",
        "            'Milwaukee', 'New York', 'Charlotte', 'Denver', 'Dallas', 'Toronto', 'Charlotte',\n",
        "            'New Orleans', 'New Jersey', 'Seattle', 'New Orleans', 'Charlotte', 'Vancouver',\n",
        "            'Washington']\n",
        "\n",
        "abr_city = dict(zip(team_abr, team_cities))"
      ],
      "execution_count": 0,
      "outputs": []
    },
    {
      "cell_type": "code",
      "metadata": {
        "id": "SBfiSiVTuxGd",
        "colab_type": "code",
        "colab": {}
      },
      "source": [
        "def trim(some_string):\n",
        "  return some_string[:-2]\n",
        "all_nba = all_nba['Unnamed: 3'].apply(trim)"
      ],
      "execution_count": 0,
      "outputs": []
    },
    {
      "cell_type": "code",
      "metadata": {
        "id": "0oSeShayVuPJ",
        "colab_type": "code",
        "colab": {}
      },
      "source": [
        "def hof_remover(some_string):\n",
        "  if some_string.endswith('*'):\n",
        "    return some_string[:-1]\n",
        "  else:\n",
        "    return some_string\n",
        "\n",
        "for key in data.keys():\n",
        "  data[key]['Player'] = data[key]['Player'].apply(hof_remover)"
      ],
      "execution_count": 0,
      "outputs": []
    },
    {
      "cell_type": "code",
      "metadata": {
        "id": "XmjTTA8C6Nh1",
        "colab_type": "code",
        "colab": {}
      },
      "source": [
        "modern_all_nba = pd.DataFrame(all_nba[(all_nba.index >'1988-89')])"
      ],
      "execution_count": 0,
      "outputs": []
    },
    {
      "cell_type": "code",
      "metadata": {
        "id": "nzjOY42x-HZp",
        "colab_type": "code",
        "colab": {}
      },
      "source": [
        "awards = np.ones(len(modern_all_nba))"
      ],
      "execution_count": 0,
      "outputs": []
    },
    {
      "cell_type": "code",
      "metadata": {
        "id": "YdeOH9La_Zjv",
        "colab_type": "code",
        "colab": {}
      },
      "source": [
        "modern_all_nba['awards'] = awards\n",
        "modern_all_nba.rename(columns={'Unnamed: 3': 'Player'}, inplace=True)"
      ],
      "execution_count": 0,
      "outputs": []
    },
    {
      "cell_type": "code",
      "metadata": {
        "id": "eqtBkyagABmP",
        "colab_type": "code",
        "colab": {}
      },
      "source": [
        "merged_data = {}\n",
        "for key in modern_all_nba.index.unique():\n",
        "  merged_data[key] = pd.merge(data[key], modern_all_nba[modern_all_nba.index==key], how='left', on='Player')\n",
        "  merged_data[key].fillna(0, inplace=True)\n",
        "  merged_data[key]['Season'] = np.repeat(key, len(merged_data[key]))\n",
        "  merged_data[key]['team_city'] = merged_data[key]['Tm'].map(abr_city)"
      ],
      "execution_count": 0,
      "outputs": []
    },
    {
      "cell_type": "code",
      "metadata": {
        "id": "SIEchyEwe2DE",
        "colab_type": "code",
        "colab": {}
      },
      "source": [
        "latest_seasons = ['2018-19', '2019-20']\n",
        "df_list = []\n",
        "for key in merged_data.keys():\n",
        "  if key not in latest_seasons:\n",
        "    df_list.append(merged_data[key])\n",
        "train = pd.concat(df_list, axis=0)\n",
        "validate = merged_data[latest_seasons[0]]\n",
        "test = data[latest_seasons[1]]"
      ],
      "execution_count": 0,
      "outputs": []
    },
    {
      "cell_type": "code",
      "metadata": {
        "id": "QEBEYZ0PBipL",
        "colab_type": "code",
        "colab": {}
      },
      "source": [
        "target = 'awards'\n",
        "\n",
        "features = train.columns.tolist()\n",
        "\n",
        "removed_features = ['Player',\n",
        "                    'Pos',\n",
        "                    'Rk',\n",
        "                    'awards',\n",
        "                    'Season',\n",
        "                    'team_city' \n",
        "                    ]\n",
        "\n",
        "for item in removed_features:\n",
        "  if item in features:\n",
        "    features.remove(item)"
      ],
      "execution_count": 0,
      "outputs": []
    },
    {
      "cell_type": "code",
      "metadata": {
        "id": "rjysNyo8wkv4",
        "colab_type": "code",
        "colab": {}
      },
      "source": [
        "# features matrix and target vector \n",
        "X_train = train[features]\n",
        "y_train = train[target]\n",
        "X_val = validate[features]\n",
        "y_val = validate[target]\n",
        "X_test = test[features]"
      ],
      "execution_count": 0,
      "outputs": []
    },
    {
      "cell_type": "code",
      "metadata": {
        "id": "Q5ic_FfhnDsA",
        "colab_type": "code",
        "outputId": "241e67ad-e747-48e1-81a6-50110349eb07",
        "colab": {
          "base_uri": "https://localhost:8080/",
          "height": 215
        }
      },
      "source": [
        "!pip install category-encoders"
      ],
      "execution_count": 15,
      "outputs": [
        {
          "output_type": "stream",
          "text": [
            "Requirement already satisfied: category-encoders in /usr/local/lib/python3.6/dist-packages (2.1.0)\n",
            "Requirement already satisfied: scikit-learn>=0.20.0 in /usr/local/lib/python3.6/dist-packages (from category-encoders) (0.21.3)\n",
            "Requirement already satisfied: pandas>=0.21.1 in /usr/local/lib/python3.6/dist-packages (from category-encoders) (0.25.3)\n",
            "Requirement already satisfied: statsmodels>=0.6.1 in /usr/local/lib/python3.6/dist-packages (from category-encoders) (0.10.2)\n",
            "Requirement already satisfied: patsy>=0.4.1 in /usr/local/lib/python3.6/dist-packages (from category-encoders) (0.5.1)\n",
            "Requirement already satisfied: numpy>=1.11.3 in /usr/local/lib/python3.6/dist-packages (from category-encoders) (1.17.4)\n",
            "Requirement already satisfied: scipy>=0.19.0 in /usr/local/lib/python3.6/dist-packages (from category-encoders) (1.3.3)\n",
            "Requirement already satisfied: joblib>=0.11 in /usr/local/lib/python3.6/dist-packages (from scikit-learn>=0.20.0->category-encoders) (0.14.1)\n",
            "Requirement already satisfied: python-dateutil>=2.6.1 in /usr/local/lib/python3.6/dist-packages (from pandas>=0.21.1->category-encoders) (2.6.1)\n",
            "Requirement already satisfied: pytz>=2017.2 in /usr/local/lib/python3.6/dist-packages (from pandas>=0.21.1->category-encoders) (2018.9)\n",
            "Requirement already satisfied: six in /usr/local/lib/python3.6/dist-packages (from patsy>=0.4.1->category-encoders) (1.12.0)\n"
          ],
          "name": "stdout"
        }
      ]
    },
    {
      "cell_type": "code",
      "metadata": {
        "id": "PLRdWtKlcxby",
        "colab_type": "code",
        "colab": {}
      },
      "source": [
        "# import all necessary functions for sklearn pipeline\n",
        "import category_encoders as ce\n",
        "from sklearn.impute import SimpleImputer\n",
        "from sklearn.preprocessing import StandardScaler\n",
        "from sklearn.ensemble import RandomForestClassifier\n",
        "from sklearn.pipeline import make_pipeline"
      ],
      "execution_count": 0,
      "outputs": []
    },
    {
      "cell_type": "code",
      "metadata": {
        "id": "d7029OOyeJfp",
        "colab_type": "code",
        "colab": {}
      },
      "source": [
        "# create pipeline\n",
        "pipe = make_pipeline(ce.OrdinalEncoder(), # Somewhat unnecessary with all awards changed to 1\n",
        "                         RandomForestClassifier(max_depth=None, n_estimators=1200))\n",
        "pipe.fit(X_train, y_train);"
      ],
      "execution_count": 0,
      "outputs": []
    },
    {
      "cell_type": "code",
      "metadata": {
        "id": "mN7xdXhotpLc",
        "colab_type": "code",
        "outputId": "1fceff95-99d1-4bd8-e1ab-5f878a7c5bdc",
        "colab": {
          "base_uri": "https://localhost:8080/",
          "height": 35
        }
      },
      "source": [
        "pipe.score(X_val, y_val)"
      ],
      "execution_count": 18,
      "outputs": [
        {
          "output_type": "execute_result",
          "data": {
            "text/plain": [
              "0.9583333333333334"
            ]
          },
          "metadata": {
            "tags": []
          },
          "execution_count": 18
        }
      ]
    },
    {
      "cell_type": "code",
      "metadata": {
        "id": "CSLN01VavF8_",
        "colab_type": "code",
        "outputId": "3f85813a-8933-4585-8aad-2fd23aa81972",
        "colab": {
          "base_uri": "https://localhost:8080/",
          "height": 557
        }
      },
      "source": [
        "for key in merged_data.keys():\n",
        "  my_bool = '3PAr' in data[key].columns.tolist()\n",
        "  my_list = data[key].columns.tolist()\n",
        "  print(key, len(my_list), my_bool)"
      ],
      "execution_count": 19,
      "outputs": [
        {
          "output_type": "stream",
          "text": [
            "2018-19 27 True\n",
            "2017-18 27 True\n",
            "2016-17 27 True\n",
            "2015-16 27 True\n",
            "2014-15 27 True\n",
            "2013-14 27 True\n",
            "2012-13 27 True\n",
            "2011-12 27 True\n",
            "2010-11 27 True\n",
            "2009-10 27 True\n",
            "2008-09 27 True\n",
            "2007-08 27 True\n",
            "2006-07 27 True\n",
            "2005-06 27 True\n",
            "2004-05 27 True\n",
            "2003-04 27 True\n",
            "2002-03 27 True\n",
            "2001-02 27 True\n",
            "2000-01 27 True\n",
            "1999-00 27 True\n",
            "1998-99 27 True\n",
            "1997-98 27 True\n",
            "1996-97 27 True\n",
            "1995-96 27 True\n",
            "1994-95 27 True\n",
            "1993-94 27 True\n",
            "1992-93 27 True\n",
            "1991-92 27 True\n",
            "1990-91 27 True\n",
            "1989-90 27 True\n"
          ],
          "name": "stdout"
        }
      ]
    },
    {
      "cell_type": "code",
      "metadata": {
        "id": "xuZkru47uA4y",
        "colab_type": "code",
        "colab": {}
      },
      "source": [
        "encoder = ce.OrdinalEncoder()\n",
        "imputer = SimpleImputer()\n",
        "transformer = make_pipeline(encoder, imputer)\n",
        "X_train_transformed = transformer.fit_transform(X_train)\n",
        "X_val_transformed = transformer.fit_transform(X_val)"
      ],
      "execution_count": 0,
      "outputs": []
    },
    {
      "cell_type": "code",
      "metadata": {
        "colab_type": "code",
        "id": "hpSemTkFFP8i",
        "colab": {
          "base_uri": "https://localhost:8080/",
          "height": 143
        },
        "outputId": "75c82c29-4e8b-417d-ccd1-1627ec79422b"
      },
      "source": [
        "model = RandomForestClassifier(max_depth=None, n_estimators=1200)\n",
        "model.fit(X_train_transformed, y_train)"
      ],
      "execution_count": 21,
      "outputs": [
        {
          "output_type": "execute_result",
          "data": {
            "text/plain": [
              "RandomForestClassifier(bootstrap=True, class_weight=None, criterion='gini',\n",
              "                       max_depth=None, max_features='auto', max_leaf_nodes=None,\n",
              "                       min_impurity_decrease=0.0, min_impurity_split=None,\n",
              "                       min_samples_leaf=1, min_samples_split=2,\n",
              "                       min_weight_fraction_leaf=0.0, n_estimators=1200,\n",
              "                       n_jobs=None, oob_score=False, random_state=None,\n",
              "                       verbose=0, warm_start=False)"
            ]
          },
          "metadata": {
            "tags": []
          },
          "execution_count": 21
        }
      ]
    },
    {
      "cell_type": "code",
      "metadata": {
        "id": "cD0JzTyPIgMb",
        "colab_type": "code",
        "colab": {
          "base_uri": "https://localhost:8080/",
          "height": 287
        },
        "outputId": "8dccef0f-e3bd-47e6-e7cd-42a1bc007ab9"
      },
      "source": [
        "!pip install eli5"
      ],
      "execution_count": 23,
      "outputs": [
        {
          "output_type": "stream",
          "text": [
            "Collecting eli5\n",
            "\u001b[?25l  Downloading https://files.pythonhosted.org/packages/97/2f/c85c7d8f8548e460829971785347e14e45fa5c6617da374711dec8cb38cc/eli5-0.10.1-py2.py3-none-any.whl (105kB)\n",
            "\r\u001b[K     |███                             | 10kB 21.3MB/s eta 0:00:01\r\u001b[K     |██████▏                         | 20kB 6.9MB/s eta 0:00:01\r\u001b[K     |█████████▎                      | 30kB 9.7MB/s eta 0:00:01\r\u001b[K     |████████████▍                   | 40kB 6.2MB/s eta 0:00:01\r\u001b[K     |███████████████▌                | 51kB 7.5MB/s eta 0:00:01\r\u001b[K     |██████████████████▋             | 61kB 8.8MB/s eta 0:00:01\r\u001b[K     |█████████████████████▊          | 71kB 9.7MB/s eta 0:00:01\r\u001b[K     |████████████████████████▊       | 81kB 10.7MB/s eta 0:00:01\r\u001b[K     |███████████████████████████▉    | 92kB 11.8MB/s eta 0:00:01\r\u001b[K     |███████████████████████████████ | 102kB 10.1MB/s eta 0:00:01\r\u001b[K     |████████████████████████████████| 112kB 10.1MB/s \n",
            "\u001b[?25hRequirement already satisfied: jinja2 in /usr/local/lib/python3.6/dist-packages (from eli5) (2.10.3)\n",
            "Requirement already satisfied: attrs>16.0.0 in /usr/local/lib/python3.6/dist-packages (from eli5) (19.3.0)\n",
            "Requirement already satisfied: graphviz in /usr/local/lib/python3.6/dist-packages (from eli5) (0.10.1)\n",
            "Requirement already satisfied: tabulate>=0.7.7 in /usr/local/lib/python3.6/dist-packages (from eli5) (0.8.6)\n",
            "Requirement already satisfied: scikit-learn>=0.18 in /usr/local/lib/python3.6/dist-packages (from eli5) (0.21.3)\n",
            "Requirement already satisfied: six in /usr/local/lib/python3.6/dist-packages (from eli5) (1.12.0)\n",
            "Requirement already satisfied: numpy>=1.9.0 in /usr/local/lib/python3.6/dist-packages (from eli5) (1.17.4)\n",
            "Requirement already satisfied: scipy in /usr/local/lib/python3.6/dist-packages (from eli5) (1.3.3)\n",
            "Requirement already satisfied: MarkupSafe>=0.23 in /usr/local/lib/python3.6/dist-packages (from jinja2->eli5) (1.1.1)\n",
            "Requirement already satisfied: joblib>=0.11 in /usr/local/lib/python3.6/dist-packages (from scikit-learn>=0.18->eli5) (0.14.1)\n",
            "Installing collected packages: eli5\n",
            "Successfully installed eli5-0.10.1\n"
          ],
          "name": "stdout"
        }
      ]
    },
    {
      "cell_type": "code",
      "metadata": {
        "id": "1zfHiZZKJmqf",
        "colab_type": "code",
        "colab": {
          "base_uri": "https://localhost:8080/",
          "height": 377
        },
        "outputId": "853f4433-5cd9-4828-d63e-40d35fbf015c"
      },
      "source": [
        "import eli5\n",
        "from eli5.sklearn import PermutationImportance\n",
        "\n",
        "# 1. Calculate permutation importances\n",
        "permuter = PermutationImportance(\n",
        "    model, \n",
        "    scoring='accuracy', \n",
        "    n_iter=5, \n",
        "    random_state=42\n",
        ")\n",
        "\n",
        "permuter.fit(X_train_transformed, y_train)"
      ],
      "execution_count": 27,
      "outputs": [
        {
          "output_type": "execute_result",
          "data": {
            "text/plain": [
              "PermutationImportance(cv='prefit',\n",
              "                      estimator=RandomForestClassifier(bootstrap=True,\n",
              "                                                       class_weight=None,\n",
              "                                                       criterion='gini',\n",
              "                                                       max_depth=None,\n",
              "                                                       max_features='auto',\n",
              "                                                       max_leaf_nodes=None,\n",
              "                                                       min_impurity_decrease=0.0,\n",
              "                                                       min_impurity_split=None,\n",
              "                                                       min_samples_leaf=1,\n",
              "                                                       min_samples_split=2,\n",
              "                                                       min_weight_fraction_leaf=0.0,\n",
              "                                                       n_estimators=1200,\n",
              "                                                       n_jobs=None,\n",
              "                                                       oob_score=False,\n",
              "                                                       random_state=None,\n",
              "                                                       verbose=0,\n",
              "                                                       warm_start=False),\n",
              "                      n_iter=5, random_state=42, refit=True,\n",
              "                      scoring='accuracy')"
            ]
          },
          "metadata": {
            "tags": []
          },
          "execution_count": 27
        }
      ]
    },
    {
      "cell_type": "code",
      "metadata": {
        "id": "h4mHsCxQI-h-",
        "colab_type": "code",
        "colab": {
          "base_uri": "https://localhost:8080/",
          "height": 35
        },
        "outputId": "6713525a-cd00-41c1-e550-d863ba7e82b9"
      },
      "source": [
        "permuter.score(X_val_transformed, y_val)"
      ],
      "execution_count": 28,
      "outputs": [
        {
          "output_type": "execute_result",
          "data": {
            "text/plain": [
              "0.9583333333333334"
            ]
          },
          "metadata": {
            "tags": []
          },
          "execution_count": 28
        }
      ]
    },
    {
      "cell_type": "code",
      "metadata": {
        "id": "f1T86wLSKjpT",
        "colab_type": "code",
        "colab": {
          "base_uri": "https://localhost:8080/",
          "height": 467
        },
        "outputId": "5c5225e7-812d-44e0-e841-420842735ab5"
      },
      "source": [
        "feature_names = X_val.columns.tolist()\n",
        "pd.Series(permuter.feature_importances_, feature_names).sort_values()"
      ],
      "execution_count": 29,
      "outputs": [
        {
          "output_type": "execute_result",
          "data": {
            "text/plain": [
              "Tm       0.000000\n",
              "FTr      0.000064\n",
              "BLK%     0.000128\n",
              "WS/48    0.000191\n",
              "ORB%     0.000255\n",
              "DBPM     0.000319\n",
              "BPM      0.000319\n",
              "OBPM     0.000574\n",
              "3PAr     0.000574\n",
              "DRB%     0.000765\n",
              "AST%     0.000829\n",
              "TRB%     0.000893\n",
              "G        0.001020\n",
              "TOV%     0.001148\n",
              "Age      0.001466\n",
              "STL%     0.001530\n",
              "MP       0.001658\n",
              "PER      0.001785\n",
              "USG%     0.002295\n",
              "TS%      0.002423\n",
              "OWS      0.004144\n",
              "VORP     0.006120\n",
              "WS       0.006503\n",
              "DWS      0.012177\n",
              "dtype: float64"
            ]
          },
          "metadata": {
            "tags": []
          },
          "execution_count": 29
        }
      ]
    },
    {
      "cell_type": "code",
      "metadata": {
        "id": "-WU3m-eZLNgU",
        "colab_type": "code",
        "colab": {
          "base_uri": "https://localhost:8080/",
          "height": 442
        },
        "outputId": "8a8ccc47-fd4d-42ed-9829-eddf4b87fc2c"
      },
      "source": [
        "# 2. Display permutation importances\n",
        "eli5.show_weights(\n",
        "    permuter, \n",
        "    top=None, # show permutation importances for all features\n",
        "    feature_names=feature_names # must be a list\n",
        ")"
      ],
      "execution_count": 30,
      "outputs": [
        {
          "output_type": "execute_result",
          "data": {
            "text/html": [
              "\n",
              "    <style>\n",
              "    table.eli5-weights tr:hover {\n",
              "        filter: brightness(85%);\n",
              "    }\n",
              "</style>\n",
              "\n",
              "\n",
              "\n",
              "    \n",
              "\n",
              "    \n",
              "\n",
              "    \n",
              "\n",
              "    \n",
              "\n",
              "    \n",
              "\n",
              "    \n",
              "\n",
              "\n",
              "    \n",
              "\n",
              "    \n",
              "\n",
              "    \n",
              "\n",
              "    \n",
              "\n",
              "    \n",
              "\n",
              "    \n",
              "\n",
              "\n",
              "    \n",
              "\n",
              "    \n",
              "\n",
              "    \n",
              "\n",
              "    \n",
              "\n",
              "    \n",
              "        <table class=\"eli5-weights eli5-feature-importances\" style=\"border-collapse: collapse; border: none; margin-top: 0em; table-layout: auto;\">\n",
              "    <thead>\n",
              "    <tr style=\"border: none;\">\n",
              "        <th style=\"padding: 0 1em 0 0.5em; text-align: right; border: none;\">Weight</th>\n",
              "        <th style=\"padding: 0 0.5em 0 0.5em; text-align: left; border: none;\">Feature</th>\n",
              "    </tr>\n",
              "    </thead>\n",
              "    <tbody>\n",
              "    \n",
              "        <tr style=\"background-color: hsl(120, 100.00%, 80.00%); border: none;\">\n",
              "            <td style=\"padding: 0 1em 0 0.5em; text-align: right; border: none;\">\n",
              "                0.0122\n",
              "                \n",
              "                    &plusmn; 0.0005\n",
              "                \n",
              "            </td>\n",
              "            <td style=\"padding: 0 0.5em 0 0.5em; text-align: left; border: none;\">\n",
              "                DWS\n",
              "            </td>\n",
              "        </tr>\n",
              "    \n",
              "        <tr style=\"background-color: hsl(120, 100.00%, 87.11%); border: none;\">\n",
              "            <td style=\"padding: 0 1em 0 0.5em; text-align: right; border: none;\">\n",
              "                0.0065\n",
              "                \n",
              "                    &plusmn; 0.0005\n",
              "                \n",
              "            </td>\n",
              "            <td style=\"padding: 0 0.5em 0 0.5em; text-align: left; border: none;\">\n",
              "                WS\n",
              "            </td>\n",
              "        </tr>\n",
              "    \n",
              "        <tr style=\"background-color: hsl(120, 100.00%, 87.64%); border: none;\">\n",
              "            <td style=\"padding: 0 1em 0 0.5em; text-align: right; border: none;\">\n",
              "                0.0061\n",
              "                \n",
              "                    &plusmn; 0.0014\n",
              "                \n",
              "            </td>\n",
              "            <td style=\"padding: 0 0.5em 0 0.5em; text-align: left; border: none;\">\n",
              "                VORP\n",
              "            </td>\n",
              "        </tr>\n",
              "    \n",
              "        <tr style=\"background-color: hsl(120, 100.00%, 90.60%); border: none;\">\n",
              "            <td style=\"padding: 0 1em 0 0.5em; text-align: right; border: none;\">\n",
              "                0.0041\n",
              "                \n",
              "                    &plusmn; 0.0007\n",
              "                \n",
              "            </td>\n",
              "            <td style=\"padding: 0 0.5em 0 0.5em; text-align: left; border: none;\">\n",
              "                OWS\n",
              "            </td>\n",
              "        </tr>\n",
              "    \n",
              "        <tr style=\"background-color: hsl(120, 100.00%, 93.54%); border: none;\">\n",
              "            <td style=\"padding: 0 1em 0 0.5em; text-align: right; border: none;\">\n",
              "                0.0024\n",
              "                \n",
              "                    &plusmn; 0.0007\n",
              "                \n",
              "            </td>\n",
              "            <td style=\"padding: 0 0.5em 0 0.5em; text-align: left; border: none;\">\n",
              "                TS%\n",
              "            </td>\n",
              "        </tr>\n",
              "    \n",
              "        <tr style=\"background-color: hsl(120, 100.00%, 93.78%); border: none;\">\n",
              "            <td style=\"padding: 0 1em 0 0.5em; text-align: right; border: none;\">\n",
              "                0.0023\n",
              "                \n",
              "                    &plusmn; 0.0006\n",
              "                \n",
              "            </td>\n",
              "            <td style=\"padding: 0 0.5em 0 0.5em; text-align: left; border: none;\">\n",
              "                USG%\n",
              "            </td>\n",
              "        </tr>\n",
              "    \n",
              "        <tr style=\"background-color: hsl(120, 100.00%, 94.78%); border: none;\">\n",
              "            <td style=\"padding: 0 1em 0 0.5em; text-align: right; border: none;\">\n",
              "                0.0018\n",
              "                \n",
              "                    &plusmn; 0.0003\n",
              "                \n",
              "            </td>\n",
              "            <td style=\"padding: 0 0.5em 0 0.5em; text-align: left; border: none;\">\n",
              "                PER\n",
              "            </td>\n",
              "        </tr>\n",
              "    \n",
              "        <tr style=\"background-color: hsl(120, 100.00%, 95.05%); border: none;\">\n",
              "            <td style=\"padding: 0 1em 0 0.5em; text-align: right; border: none;\">\n",
              "                0.0017\n",
              "                \n",
              "                    &plusmn; 0.0003\n",
              "                \n",
              "            </td>\n",
              "            <td style=\"padding: 0 0.5em 0 0.5em; text-align: left; border: none;\">\n",
              "                MP\n",
              "            </td>\n",
              "        </tr>\n",
              "    \n",
              "        <tr style=\"background-color: hsl(120, 100.00%, 95.32%); border: none;\">\n",
              "            <td style=\"padding: 0 1em 0 0.5em; text-align: right; border: none;\">\n",
              "                0.0015\n",
              "                \n",
              "                    &plusmn; 0.0003\n",
              "                \n",
              "            </td>\n",
              "            <td style=\"padding: 0 0.5em 0 0.5em; text-align: left; border: none;\">\n",
              "                STL%\n",
              "            </td>\n",
              "        </tr>\n",
              "    \n",
              "        <tr style=\"background-color: hsl(120, 100.00%, 95.46%); border: none;\">\n",
              "            <td style=\"padding: 0 1em 0 0.5em; text-align: right; border: none;\">\n",
              "                0.0015\n",
              "                \n",
              "                    &plusmn; 0.0003\n",
              "                \n",
              "            </td>\n",
              "            <td style=\"padding: 0 0.5em 0 0.5em; text-align: left; border: none;\">\n",
              "                Age\n",
              "            </td>\n",
              "        </tr>\n",
              "    \n",
              "        <tr style=\"background-color: hsl(120, 100.00%, 96.17%); border: none;\">\n",
              "            <td style=\"padding: 0 1em 0 0.5em; text-align: right; border: none;\">\n",
              "                0.0011\n",
              "                \n",
              "                    &plusmn; 0.0003\n",
              "                \n",
              "            </td>\n",
              "            <td style=\"padding: 0 0.5em 0 0.5em; text-align: left; border: none;\">\n",
              "                TOV%\n",
              "            </td>\n",
              "        </tr>\n",
              "    \n",
              "        <tr style=\"background-color: hsl(120, 100.00%, 96.47%); border: none;\">\n",
              "            <td style=\"padding: 0 1em 0 0.5em; text-align: right; border: none;\">\n",
              "                0.0010\n",
              "                \n",
              "                    &plusmn; 0.0003\n",
              "                \n",
              "            </td>\n",
              "            <td style=\"padding: 0 0.5em 0 0.5em; text-align: left; border: none;\">\n",
              "                G\n",
              "            </td>\n",
              "        </tr>\n",
              "    \n",
              "        <tr style=\"background-color: hsl(120, 100.00%, 96.79%); border: none;\">\n",
              "            <td style=\"padding: 0 1em 0 0.5em; text-align: right; border: none;\">\n",
              "                0.0009\n",
              "                \n",
              "                    &plusmn; 0.0005\n",
              "                \n",
              "            </td>\n",
              "            <td style=\"padding: 0 0.5em 0 0.5em; text-align: left; border: none;\">\n",
              "                TRB%\n",
              "            </td>\n",
              "        </tr>\n",
              "    \n",
              "        <tr style=\"background-color: hsl(120, 100.00%, 96.95%); border: none;\">\n",
              "            <td style=\"padding: 0 1em 0 0.5em; text-align: right; border: none;\">\n",
              "                0.0008\n",
              "                \n",
              "                    &plusmn; 0.0005\n",
              "                \n",
              "            </td>\n",
              "            <td style=\"padding: 0 0.5em 0 0.5em; text-align: left; border: none;\">\n",
              "                AST%\n",
              "            </td>\n",
              "        </tr>\n",
              "    \n",
              "        <tr style=\"background-color: hsl(120, 100.00%, 97.12%); border: none;\">\n",
              "            <td style=\"padding: 0 1em 0 0.5em; text-align: right; border: none;\">\n",
              "                0.0008\n",
              "                \n",
              "                    &plusmn; 0.0005\n",
              "                \n",
              "            </td>\n",
              "            <td style=\"padding: 0 0.5em 0 0.5em; text-align: left; border: none;\">\n",
              "                DRB%\n",
              "            </td>\n",
              "        </tr>\n",
              "    \n",
              "        <tr style=\"background-color: hsl(120, 100.00%, 97.64%); border: none;\">\n",
              "            <td style=\"padding: 0 1em 0 0.5em; text-align: right; border: none;\">\n",
              "                0.0006\n",
              "                \n",
              "                    &plusmn; 0.0007\n",
              "                \n",
              "            </td>\n",
              "            <td style=\"padding: 0 0.5em 0 0.5em; text-align: left; border: none;\">\n",
              "                3PAr\n",
              "            </td>\n",
              "        </tr>\n",
              "    \n",
              "        <tr style=\"background-color: hsl(120, 100.00%, 97.64%); border: none;\">\n",
              "            <td style=\"padding: 0 1em 0 0.5em; text-align: right; border: none;\">\n",
              "                0.0006\n",
              "                \n",
              "                    &plusmn; 0.0005\n",
              "                \n",
              "            </td>\n",
              "            <td style=\"padding: 0 0.5em 0 0.5em; text-align: left; border: none;\">\n",
              "                OBPM\n",
              "            </td>\n",
              "        </tr>\n",
              "    \n",
              "        <tr style=\"background-color: hsl(120, 100.00%, 98.44%); border: none;\">\n",
              "            <td style=\"padding: 0 1em 0 0.5em; text-align: right; border: none;\">\n",
              "                0.0003\n",
              "                \n",
              "                    &plusmn; 0.0000\n",
              "                \n",
              "            </td>\n",
              "            <td style=\"padding: 0 0.5em 0 0.5em; text-align: left; border: none;\">\n",
              "                BPM\n",
              "            </td>\n",
              "        </tr>\n",
              "    \n",
              "        <tr style=\"background-color: hsl(120, 100.00%, 98.44%); border: none;\">\n",
              "            <td style=\"padding: 0 1em 0 0.5em; text-align: right; border: none;\">\n",
              "                0.0003\n",
              "                \n",
              "                    &plusmn; 0.0000\n",
              "                \n",
              "            </td>\n",
              "            <td style=\"padding: 0 0.5em 0 0.5em; text-align: left; border: none;\">\n",
              "                DBPM\n",
              "            </td>\n",
              "        </tr>\n",
              "    \n",
              "        <tr style=\"background-color: hsl(120, 100.00%, 98.66%); border: none;\">\n",
              "            <td style=\"padding: 0 1em 0 0.5em; text-align: right; border: none;\">\n",
              "                0.0003\n",
              "                \n",
              "                    &plusmn; 0.0003\n",
              "                \n",
              "            </td>\n",
              "            <td style=\"padding: 0 0.5em 0 0.5em; text-align: left; border: none;\">\n",
              "                ORB%\n",
              "            </td>\n",
              "        </tr>\n",
              "    \n",
              "        <tr style=\"background-color: hsl(120, 100.00%, 98.91%); border: none;\">\n",
              "            <td style=\"padding: 0 1em 0 0.5em; text-align: right; border: none;\">\n",
              "                0.0002\n",
              "                \n",
              "                    &plusmn; 0.0003\n",
              "                \n",
              "            </td>\n",
              "            <td style=\"padding: 0 0.5em 0 0.5em; text-align: left; border: none;\">\n",
              "                WS/48\n",
              "            </td>\n",
              "        </tr>\n",
              "    \n",
              "        <tr style=\"background-color: hsl(120, 100.00%, 99.18%); border: none;\">\n",
              "            <td style=\"padding: 0 1em 0 0.5em; text-align: right; border: none;\">\n",
              "                0.0001\n",
              "                \n",
              "                    &plusmn; 0.0003\n",
              "                \n",
              "            </td>\n",
              "            <td style=\"padding: 0 0.5em 0 0.5em; text-align: left; border: none;\">\n",
              "                BLK%\n",
              "            </td>\n",
              "        </tr>\n",
              "    \n",
              "        <tr style=\"background-color: hsl(120, 100.00%, 99.49%); border: none;\">\n",
              "            <td style=\"padding: 0 1em 0 0.5em; text-align: right; border: none;\">\n",
              "                0.0001\n",
              "                \n",
              "                    &plusmn; 0.0003\n",
              "                \n",
              "            </td>\n",
              "            <td style=\"padding: 0 0.5em 0 0.5em; text-align: left; border: none;\">\n",
              "                FTr\n",
              "            </td>\n",
              "        </tr>\n",
              "    \n",
              "        <tr style=\"background-color: hsl(0, 100.00%, 100.00%); border: none;\">\n",
              "            <td style=\"padding: 0 1em 0 0.5em; text-align: right; border: none;\">\n",
              "                0\n",
              "                \n",
              "                    &plusmn; 0.0000\n",
              "                \n",
              "            </td>\n",
              "            <td style=\"padding: 0 0.5em 0 0.5em; text-align: left; border: none;\">\n",
              "                Tm\n",
              "            </td>\n",
              "        </tr>\n",
              "    \n",
              "    \n",
              "    </tbody>\n",
              "</table>\n",
              "    \n",
              "\n",
              "    \n",
              "\n",
              "\n",
              "    \n",
              "\n",
              "    \n",
              "\n",
              "    \n",
              "\n",
              "    \n",
              "\n",
              "    \n",
              "\n",
              "    \n",
              "\n",
              "\n",
              "\n"
            ],
            "text/plain": [
              "<IPython.core.display.HTML object>"
            ]
          },
          "metadata": {
            "tags": []
          },
          "execution_count": 30
        }
      ]
    },
    {
      "cell_type": "code",
      "metadata": {
        "id": "wt-hDLHSLJOe",
        "colab_type": "code",
        "colab": {
          "base_uri": "https://localhost:8080/",
          "height": 809
        },
        "outputId": "b53aac70-b41b-4dd4-d1e8-eb42ae3db368"
      },
      "source": [
        "from xgboost import XGBClassifier\n",
        "\n",
        "eval_set = [(X_train_transformed, y_train),\n",
        "            (X_val_transformed, y_val)]\n",
        "\n",
        "model = XGBClassifier(n_estimators=1000,\n",
        "                      max_depth=6,\n",
        "                      learning_rate=0.1,\n",
        "                      n_jobs=-1,\n",
        "                      scale_pos_weight=1)\n",
        "\n",
        "model.fit(X_train_transformed,\n",
        "          y_train,\n",
        "          eval_set=eval_set,\n",
        "          eval_metric='error',\n",
        "          early_stopping_rounds=25)\n",
        "model.predict(X_val_transformed)"
      ],
      "execution_count": 52,
      "outputs": [
        {
          "output_type": "stream",
          "text": [
            "[0]\tvalidation_0-error:0.012432\tvalidation_1-error:0.041667\n",
            "Multiple eval metrics have been passed: 'validation_1-error' will be used for early stopping.\n",
            "\n",
            "Will train until validation_1-error hasn't improved in 25 rounds.\n",
            "[1]\tvalidation_0-error:0.012113\tvalidation_1-error:0.05\n",
            "[2]\tvalidation_0-error:0.01307\tvalidation_1-error:0.05\n",
            "[3]\tvalidation_0-error:0.011795\tvalidation_1-error:0.041667\n",
            "[4]\tvalidation_0-error:0.011157\tvalidation_1-error:0.033333\n",
            "[5]\tvalidation_0-error:0.010201\tvalidation_1-error:0.033333\n",
            "[6]\tvalidation_0-error:0.01052\tvalidation_1-error:0.033333\n",
            "[7]\tvalidation_0-error:0.010201\tvalidation_1-error:0.041667\n",
            "[8]\tvalidation_0-error:0.009882\tvalidation_1-error:0.041667\n",
            "[9]\tvalidation_0-error:0.009563\tvalidation_1-error:0.05\n",
            "[10]\tvalidation_0-error:0.008607\tvalidation_1-error:0.041667\n",
            "[11]\tvalidation_0-error:0.008288\tvalidation_1-error:0.05\n",
            "[12]\tvalidation_0-error:0.007332\tvalidation_1-error:0.05\n",
            "[13]\tvalidation_0-error:0.007332\tvalidation_1-error:0.05\n",
            "[14]\tvalidation_0-error:0.007013\tvalidation_1-error:0.05\n",
            "[15]\tvalidation_0-error:0.007013\tvalidation_1-error:0.05\n",
            "[16]\tvalidation_0-error:0.006694\tvalidation_1-error:0.05\n",
            "[17]\tvalidation_0-error:0.006376\tvalidation_1-error:0.05\n",
            "[18]\tvalidation_0-error:0.006057\tvalidation_1-error:0.05\n",
            "[19]\tvalidation_0-error:0.006057\tvalidation_1-error:0.041667\n",
            "[20]\tvalidation_0-error:0.006057\tvalidation_1-error:0.041667\n",
            "[21]\tvalidation_0-error:0.006057\tvalidation_1-error:0.041667\n",
            "[22]\tvalidation_0-error:0.006057\tvalidation_1-error:0.041667\n",
            "[23]\tvalidation_0-error:0.005738\tvalidation_1-error:0.041667\n",
            "[24]\tvalidation_0-error:0.005738\tvalidation_1-error:0.041667\n",
            "[25]\tvalidation_0-error:0.005419\tvalidation_1-error:0.041667\n",
            "[26]\tvalidation_0-error:0.005419\tvalidation_1-error:0.041667\n",
            "[27]\tvalidation_0-error:0.005419\tvalidation_1-error:0.041667\n",
            "[28]\tvalidation_0-error:0.0051\tvalidation_1-error:0.041667\n",
            "[29]\tvalidation_0-error:0.005419\tvalidation_1-error:0.041667\n",
            "Stopping. Best iteration:\n",
            "[4]\tvalidation_0-error:0.011157\tvalidation_1-error:0.033333\n",
            "\n"
          ],
          "name": "stdout"
        },
        {
          "output_type": "execute_result",
          "data": {
            "text/plain": [
              "array([0., 0., 0., 0., 0., 0., 0., 0., 0., 0., 0., 0., 0., 0., 0., 0., 0.,\n",
              "       0., 0., 0., 0., 0., 0., 0., 0., 0., 0., 0., 0., 1., 0., 0., 0., 0.,\n",
              "       0., 0., 0., 0., 0., 0., 0., 0., 0., 1., 0., 0., 0., 0., 0., 0., 0.,\n",
              "       0., 0., 0., 0., 0., 0., 0., 0., 0., 0., 0., 0., 0., 0., 0., 0., 0.,\n",
              "       0., 0., 0., 0., 0., 0., 0., 0., 0., 0., 0., 0., 0., 0., 0., 0., 0.,\n",
              "       0., 0., 0., 0., 0., 0., 0., 0., 0., 0., 0., 0., 0., 0., 0., 0., 0.,\n",
              "       0., 0., 0., 0., 1., 0., 0., 0., 0., 0., 0., 0., 0., 0., 0., 0., 0.,\n",
              "       0.])"
            ]
          },
          "metadata": {
            "tags": []
          },
          "execution_count": 52
        }
      ]
    },
    {
      "cell_type": "code",
      "metadata": {
        "id": "Jl1HXdWiSB4F",
        "colab_type": "code",
        "outputId": "901de85f-dd8c-4e2d-ff33-78487b23edf9",
        "colab": {
          "base_uri": "https://localhost:8080/",
          "height": 161
        }
      },
      "source": [
        "from sklearn.metrics import accuracy_score\n",
        "y_pred = model.predict(X_val_transformed)\n",
        "y_pred"
      ],
      "execution_count": 56,
      "outputs": [
        {
          "output_type": "execute_result",
          "data": {
            "text/plain": [
              "array([0., 0., 0., 0., 0., 0., 0., 0., 0., 0., 0., 0., 0., 0., 0., 0., 0.,\n",
              "       0., 0., 0., 0., 0., 0., 0., 0., 0., 0., 0., 0., 1., 0., 0., 0., 0.,\n",
              "       0., 0., 0., 0., 0., 0., 0., 0., 0., 1., 0., 0., 0., 0., 0., 0., 0.,\n",
              "       0., 0., 0., 0., 0., 0., 0., 0., 0., 0., 0., 0., 0., 0., 0., 0., 0.,\n",
              "       0., 0., 0., 0., 0., 0., 0., 0., 0., 0., 0., 0., 0., 0., 0., 0., 0.,\n",
              "       0., 0., 0., 0., 0., 0., 0., 0., 0., 0., 0., 0., 0., 0., 0., 0., 0.,\n",
              "       0., 0., 0., 0., 1., 0., 0., 0., 0., 0., 0., 0., 0., 0., 0., 0., 0.,\n",
              "       0.])"
            ]
          },
          "metadata": {
            "tags": []
          },
          "execution_count": 56
        }
      ]
    },
    {
      "cell_type": "code",
      "metadata": {
        "id": "uiz0bKzxT7kw",
        "colab_type": "code",
        "colab": {
          "base_uri": "https://localhost:8080/",
          "height": 142
        },
        "outputId": "801b98da-a291-409a-dd36-34a19f78b8a9"
      },
      "source": [
        "validate[y_pred.astype(bool)]"
      ],
      "execution_count": 58,
      "outputs": [
        {
          "output_type": "execute_result",
          "data": {
            "text/html": [
              "<div>\n",
              "<style scoped>\n",
              "    .dataframe tbody tr th:only-of-type {\n",
              "        vertical-align: middle;\n",
              "    }\n",
              "\n",
              "    .dataframe tbody tr th {\n",
              "        vertical-align: top;\n",
              "    }\n",
              "\n",
              "    .dataframe thead th {\n",
              "        text-align: right;\n",
              "    }\n",
              "</style>\n",
              "<table border=\"1\" class=\"dataframe\">\n",
              "  <thead>\n",
              "    <tr style=\"text-align: right;\">\n",
              "      <th></th>\n",
              "      <th>Rk</th>\n",
              "      <th>Player</th>\n",
              "      <th>Pos</th>\n",
              "      <th>Age</th>\n",
              "      <th>Tm</th>\n",
              "      <th>G</th>\n",
              "      <th>MP</th>\n",
              "      <th>PER</th>\n",
              "      <th>TS%</th>\n",
              "      <th>3PAr</th>\n",
              "      <th>FTr</th>\n",
              "      <th>ORB%</th>\n",
              "      <th>DRB%</th>\n",
              "      <th>TRB%</th>\n",
              "      <th>AST%</th>\n",
              "      <th>STL%</th>\n",
              "      <th>BLK%</th>\n",
              "      <th>TOV%</th>\n",
              "      <th>USG%</th>\n",
              "      <th>OWS</th>\n",
              "      <th>DWS</th>\n",
              "      <th>WS</th>\n",
              "      <th>WS/48</th>\n",
              "      <th>OBPM</th>\n",
              "      <th>DBPM</th>\n",
              "      <th>BPM</th>\n",
              "      <th>VORP</th>\n",
              "      <th>awards</th>\n",
              "      <th>Season</th>\n",
              "      <th>team_city</th>\n",
              "    </tr>\n",
              "  </thead>\n",
              "  <tbody>\n",
              "    <tr>\n",
              "      <th>29</th>\n",
              "      <td>147</td>\n",
              "      <td>Andre Drummond</td>\n",
              "      <td>C</td>\n",
              "      <td>25</td>\n",
              "      <td>DET</td>\n",
              "      <td>79</td>\n",
              "      <td>2647</td>\n",
              "      <td>23.4</td>\n",
              "      <td>.555</td>\n",
              "      <td>.036</td>\n",
              "      <td>.392</td>\n",
              "      <td>16.8</td>\n",
              "      <td>34.7</td>\n",
              "      <td>25.4</td>\n",
              "      <td>7.2</td>\n",
              "      <td>2.5</td>\n",
              "      <td>4.4</td>\n",
              "      <td>12.4</td>\n",
              "      <td>22.9</td>\n",
              "      <td>4.1</td>\n",
              "      <td>5.9</td>\n",
              "      <td>10.0</td>\n",
              "      <td>.181</td>\n",
              "      <td>-0.7</td>\n",
              "      <td>3.6</td>\n",
              "      <td>2.9</td>\n",
              "      <td>3.3</td>\n",
              "      <td>0.0</td>\n",
              "      <td>2018-19</td>\n",
              "      <td>Detroit</td>\n",
              "    </tr>\n",
              "    <tr>\n",
              "      <th>43</th>\n",
              "      <td>187</td>\n",
              "      <td>Rudy Gobert</td>\n",
              "      <td>C</td>\n",
              "      <td>26</td>\n",
              "      <td>UTA</td>\n",
              "      <td>81</td>\n",
              "      <td>2577</td>\n",
              "      <td>24.6</td>\n",
              "      <td>.682</td>\n",
              "      <td>.000</td>\n",
              "      <td>.733</td>\n",
              "      <td>13.2</td>\n",
              "      <td>30.2</td>\n",
              "      <td>21.9</td>\n",
              "      <td>9.6</td>\n",
              "      <td>1.2</td>\n",
              "      <td>5.8</td>\n",
              "      <td>12.1</td>\n",
              "      <td>17.8</td>\n",
              "      <td>8.7</td>\n",
              "      <td>5.7</td>\n",
              "      <td>14.4</td>\n",
              "      <td>.268</td>\n",
              "      <td>2.0</td>\n",
              "      <td>5.1</td>\n",
              "      <td>7.0</td>\n",
              "      <td>5.9</td>\n",
              "      <td>1.0</td>\n",
              "      <td>2018-19</td>\n",
              "      <td>Utah</td>\n",
              "    </tr>\n",
              "    <tr>\n",
              "      <th>106</th>\n",
              "      <td>492</td>\n",
              "      <td>Nikola Vučević</td>\n",
              "      <td>C</td>\n",
              "      <td>28</td>\n",
              "      <td>ORL</td>\n",
              "      <td>80</td>\n",
              "      <td>2510</td>\n",
              "      <td>25.5</td>\n",
              "      <td>.573</td>\n",
              "      <td>.171</td>\n",
              "      <td>.168</td>\n",
              "      <td>9.4</td>\n",
              "      <td>31.9</td>\n",
              "      <td>20.5</td>\n",
              "      <td>21.9</td>\n",
              "      <td>1.6</td>\n",
              "      <td>3.0</td>\n",
              "      <td>9.9</td>\n",
              "      <td>28.0</td>\n",
              "      <td>5.4</td>\n",
              "      <td>4.7</td>\n",
              "      <td>10.1</td>\n",
              "      <td>.193</td>\n",
              "      <td>3.0</td>\n",
              "      <td>3.4</td>\n",
              "      <td>6.4</td>\n",
              "      <td>5.3</td>\n",
              "      <td>0.0</td>\n",
              "      <td>2018-19</td>\n",
              "      <td>Orlando</td>\n",
              "    </tr>\n",
              "  </tbody>\n",
              "</table>\n",
              "</div>"
            ],
            "text/plain": [
              "      Rk          Player Pos Age   Tm  ...  BPM VORP awards   Season team_city\n",
              "29   147  Andre Drummond   C  25  DET  ...  2.9  3.3    0.0  2018-19   Detroit\n",
              "43   187     Rudy Gobert   C  26  UTA  ...  7.0  5.9    1.0  2018-19      Utah\n",
              "106  492  Nikola Vučević   C  28  ORL  ...  6.4  5.3    0.0  2018-19   Orlando\n",
              "\n",
              "[3 rows x 30 columns]"
            ]
          },
          "metadata": {
            "tags": []
          },
          "execution_count": 58
        }
      ]
    },
    {
      "cell_type": "code",
      "metadata": {
        "id": "3TtBAWT7UQnu",
        "colab_type": "code",
        "colab": {}
      },
      "source": [
        ""
      ],
      "execution_count": 0,
      "outputs": []
    }
  ]
}